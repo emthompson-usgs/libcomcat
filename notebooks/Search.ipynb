{
 "cells": [
  {
   "cell_type": "code",
   "execution_count": 1,
   "metadata": {},
   "outputs": [],
   "source": [
    "# Stdlib imports\n",
    "from datetime import datetime\n",
    "\n",
    "# Third party imports\n",
    "import matplotlib.pyplot as plt\n",
    "\n",
    "# Local imports\n",
    "from libcomcat.search import count, get_event_by_id, search"
   ]
  },
  {
   "cell_type": "markdown",
   "metadata": {},
   "source": [
    "# Search Overview\n",
    "----\n",
    "This notebook documents the possible ways to search for events using libcomcat. For this example, the Northridge earthquake and it's subsequent aftershocks will be considered.\n",
    "\n",
    "## Contents\n",
    "----\n",
    "- [Search](#Search)\n",
    "    - [Searches with Time](#Searches-with-Time)\n",
    "    - [Searches with Location](#Searches-with-Location)\n",
    "    - [Searches with Magnitude and Intensity](#Searches-with-Magnitude-and-Intensity)\n",
    "    - [Other Options](#Other-Options)\n",
    "- [Count](#Count)\n",
    "- [Search by ID](#Search-by-ID)"
   ]
  },
  {
   "cell_type": "markdown",
   "metadata": {},
   "source": [
    "## Search\n",
    "The search command can be used to return a summary of events. Basic searches are based upon knowledge of location, time, and magnitude. \n",
    "\n",
    "### Searches with Time\n",
    "Searching with a time will constrain when the event could have occurred. Without any location conditions, the entire globe is searched. While the web API limits to 20,000 events, the libcomcat gets around this by examining subsets of time."
   ]
  },
  {
   "cell_type": "code",
   "execution_count": 2,
   "metadata": {},
   "outputs": [
    {
     "name": "stdout",
     "output_type": "stream",
     "text": [
      "Returned 20989 events\n"
     ]
    }
   ],
   "source": [
    "time_events = search(starttime=datetime(1994, 1, 17, 12, 30), endtime=datetime(1994, 4, 18, 12, 35))\n",
    "print(\"Returned %s events\" % len(time_events))"
   ]
  },
  {
   "cell_type": "markdown",
   "metadata": {},
   "source": [
    "The search method returns a SummaryEvent object. For more information about the SummaryEvent class, see the **Classes** notebook. Example of a returned event:"
   ]
  },
  {
   "cell_type": "code",
   "execution_count": 3,
   "metadata": {},
   "outputs": [
    {
     "name": "stdout",
     "output_type": "stream",
     "text": [
      "mag: 6.7\n",
      "place: 1km NNW of Reseda, CA\n",
      "time: 758809855390\n",
      "updated: 1518716430169\n",
      "tz: None\n",
      "url: https://earthquake.usgs.gov/earthquakes/eventpage/ci3144585\n",
      "detail: https://earthquake.usgs.gov/fdsnws/event/1/query?eventid=ci3144585&format=geojson\n",
      "felt: 10955\n",
      "cdi: 8.6\n",
      "mmi: 8.6\n",
      "alert: None\n",
      "status: reviewed\n",
      "tsunami: 0\n",
      "sig: 1551\n",
      "net: ci\n",
      "code: 3144585\n",
      "ids: ,cinorthrid,choy19940117123055,gcmtc011794b,ci3144585,usp00066k9,gcmt19940117123055,duputel011794b,atlas19940117123055,iscgem189275,\n",
      "sources: ,ci,choy,gcmt,ci,us,gcmt,duputel,atlas,iscgem,\n",
      "types: ,associate,dyfi,focal-mechanism,general-link,impact-text,moment-tensor,nearby-cities,origin,phase-data,shakemap,trump-shakemap,\n",
      "nst: 0\n",
      "dmin: None\n",
      "rms: 0.31\n",
      "gap: 29.7\n",
      "magType: mw\n",
      "type: earthquake\n",
      "title: M 6.7 - 1km NNW of Reseda, CA\n"
     ]
    }
   ],
   "source": [
    "ci3144585 = time_events[0]\n",
    "properties = ci3144585.properties\n",
    "for prop in properties:\n",
    "    print(\"%s: %s\" % (prop, ci3144585[prop]))"
   ]
  },
  {
   "cell_type": "code",
   "execution_count": 4,
   "metadata": {},
   "outputs": [
    {
     "ename": "NameError",
     "evalue": "name 'x' is not defined",
     "output_type": "error",
     "traceback": [
      "\u001b[0;31m---------------------------------------------------------------------------\u001b[0m",
      "\u001b[0;31mNameError\u001b[0m                                 Traceback (most recent call last)",
      "\u001b[0;32m<ipython-input-4-0322730fe518>\u001b[0m in \u001b[0;36m<module>\u001b[0;34m\u001b[0m\n\u001b[0;32m----> 1\u001b[0;31m \u001b[0mx\u001b[0m\u001b[0;31m## Bounding Box\u001b[0m\u001b[0;34m\u001b[0m\u001b[0;34m\u001b[0m\u001b[0m\n\u001b[0m\u001b[1;32m      2\u001b[0m box_events = search(starttime=datetime(1994, 1, 17, 12, 30), endtime=datetime(1994, 1, 18, 12, 35),\n\u001b[1;32m      3\u001b[0m                    minlatitude=34.1, maxlatitude=34.3, minlongitude=-118.742, maxlongitude=-118.364)\n\u001b[1;32m      4\u001b[0m \u001b[0mprint\u001b[0m\u001b[0;34m(\u001b[0m\u001b[0;34m\"Bounding Box returned %s events\"\u001b[0m \u001b[0;34m%\u001b[0m \u001b[0mlen\u001b[0m\u001b[0;34m(\u001b[0m\u001b[0mbox_events\u001b[0m\u001b[0;34m)\u001b[0m\u001b[0;34m)\u001b[0m\u001b[0;34m\u001b[0m\u001b[0;34m\u001b[0m\u001b[0m\n\u001b[1;32m      5\u001b[0m \u001b[0mevent_lat\u001b[0m \u001b[0;34m=\u001b[0m \u001b[0;34m[\u001b[0m\u001b[0me\u001b[0m\u001b[0;34m.\u001b[0m\u001b[0mlatitude\u001b[0m \u001b[0;32mfor\u001b[0m \u001b[0me\u001b[0m \u001b[0;32min\u001b[0m \u001b[0mbox_events\u001b[0m\u001b[0;34m]\u001b[0m\u001b[0;34m\u001b[0m\u001b[0;34m\u001b[0m\u001b[0m\n",
      "\u001b[0;31mNameError\u001b[0m: name 'x' is not defined"
     ]
    }
   ],
   "source": [
    "x## Bounding Box\n",
    "box_events = search(starttime=datetime(1994, 1, 17, 12, 30), endtime=datetime(1994, 1, 18, 12, 35),\n",
    "                   minlatitude=34.1, maxlatitude=34.3, minlongitude=-118.742, maxlongitude=-118.364)\n",
    "print(\"Bounding Box returned %s events\" % len(box_events))\n",
    "event_lat = [e.latitude for e in box_events]\n",
    "event_lon = [e.longitude for e in box_events]\n",
    "\n",
    "## Degree Radius\n",
    "deg_radius_events = search(starttime=datetime(1994, 1, 17, 12, 30), endtime=datetime(1994, 1, 18, 12, 35),\n",
    "                   maxradius=0.05, latitude=34.213, longitude=-118.537)\n",
    "print(\"0.05 degree radius returned %s events\" % len(deg_radius_events))\n",
    "\n",
    "##  Radius\n",
    "km_radius_events = search(starttime=datetime(1994, 1, 17, 12, 30), endtime=datetime(1994, 1, 18, 12, 35),\n",
    "                   maxradiuskm=2, latitude=34.213, longitude=-118.537)\n",
    "print(\"2 kilometer radius returned %s events\" % len(km_radius_events))\n",
    "\n",
    "\n",
    "## Depth\n",
    "depth_events = search(starttime=datetime(1994, 1, 17, 12, 30), endtime=datetime(1994, 1, 18, 12, 35),\n",
    "                   maxradiuskm=2, latitude=34.213, longitude=-118.537, maxdepth=15)\n",
    "print(\"Depth returned %s events\" % len(depth_events))\n",
    "\n",
    "\n",
    "fig, ax = plt.subplots(figsize=(8, 5)) # note we must use plt.subplots, not plt.subplot\n",
    "eq = ax.scatter(event_lon, event_lat, color='y', label=\"Events\")\n",
    "aoi = ax.scatter(-118.537, 34.213, color='r', label='Target Earthquake')\n",
    "bb = ax.plot([-118.742, -118.364, -118.364, -118.742, -118.742], [34.1, 34.1, 34.3, 34.3, 34.1],\n",
    "       label='Bounding Box')\n",
    "circle1 = plt.Circle((-118.537, 34.213), 0.02, color='m', fill=False,\n",
    "        label='Radius ($^o$)')\n",
    "circle2 = plt.Circle((-118.537, 34.213), 0.05, color='g', fill=False,\n",
    "                    label='Radius (km)')\n",
    "\n",
    "ax.add_artist(circle1)\n",
    "ax.add_artist(circle2)\n",
    "ax.set_xlabel(r'Longitude ($^o$)', fontsize=14)\n",
    "ax.set_ylabel(r'Latitude ($^o$)', fontsize=14)\n",
    "ax.legend(handles=[aoi, bb[0], circle1, circle2, eq], fontsize=12, loc=4)\n",
    "ax.set_title('Searches Limited by Location', fontsize=16)\n",
    "plt.show()"
   ]
  },
  {
   "cell_type": "markdown",
   "metadata": {},
   "source": [
    "### Searches with Magnitude and Intensity\n",
    "Search results can be limited using descriptors of magnitude.\n",
    "\n",
    "**Magnitude**\n",
    "A minimum and maximum magnitude can be defined.\n",
    "\n",
    "**Alert Level**\n",
    "This defines the PAGER alert level. Valid options include \"green\", \"yellow\", \"orange\", and \"red\". *Note*: This option does not act as a thresholde to return events with alert levels above and below the defined level; only those events with the exact alert level will be returned.\n",
    "\n",
    "**Maximum MMI**\n",
    "This defines the Maximum Modified Mercalli Intensity reported by ShakeMap.\n",
    "\n",
    "**Significance** This limits events by their minimum and maximum significance.\n",
    "\n",
    "**CDI** The minimum and maximum Community Determined Intensity that is reported by DYFI is used as a threshold. *Note*: A DYFI report is required for this option, otherwise no events are returned. Options are limited between 0 and 12.\n",
    "\n",
    "**Minimum Felt** The minimum number of DYFI responses is used as the threshold. *Note*: A DYFI report is required for this option, otherwise no events are returned.\n",
    "\n"
   ]
  },
  {
   "cell_type": "code",
   "execution_count": null,
   "metadata": {},
   "outputs": [],
   "source": [
    "## Using the bounding box option and limited by magnitude and Intensity\n",
    "## Magnitude\n",
    "mag_events = search(starttime=datetime(1994, 1, 17, 12, 30), endtime=datetime(1994, 1, 18, 12, 35),\n",
    "                   minlatitude=34.1, maxlatitude=34.3, minlongitude=-118.742, maxlongitude=-118.364,\n",
    "                   minmagnitude=4, maxmagnitude=8)\n",
    "print(\"Magnitude returned %s events\" % len(mag_events))\n",
    "\n",
    "## Alert Level\n",
    "alert_events = search(starttime=datetime(1994, 1, 17, 12, 30), endtime=datetime(1994, 1, 18, 12, 35),\n",
    "                   minlatitude=34.1, maxlatitude=34.3, minlongitude=-118.742, maxlongitude=-118.364,\n",
    "                   alertlevel=\"green\")\n",
    "print(\"Alert level returned %s events\" % len(alert_events))\n",
    "\n",
    "## Significance\n",
    "significance_events = search(starttime=datetime(1994, 1, 17, 12, 30), endtime=datetime(1994, 1, 18, 12, 35),\n",
    "                   minlatitude=34.1, maxlatitude=34.3, minlongitude=-118.742, maxlongitude=-118.364,\n",
    "                   minsig=10, maxsig=20)\n",
    "print(\"Significance returned %s events\" % len(significance_events))\n",
    "\n",
    "## CDI\n",
    "cdi_events = search(starttime=datetime(1994, 1, 17, 12, 30), endtime=datetime(1994, 1, 18, 12, 35),\n",
    "                   minlatitude=34.1, maxlatitude=34.3, minlongitude=-118.742, maxlongitude=-118.364,\n",
    "                   mincdi=5, maxcdi=7)\n",
    "print(\"CDI returned %s events\" % len(cdi_events))\n",
    "\n",
    "fig, ax = plt.subplots(figsize=(8, 5)) # note we must use plt.subplots, not plt.subplot\n",
    "eq = ax.scatter(event_lon, event_lat, color='y', label=\"All Events\")\n",
    "bb = ax.plot([-118.742, -118.364, -118.364, -118.742, -118.742], [34.1, 34.1, 34.3, 34.3, 34.1],\n",
    "       label='Bounding Box')\n",
    "circle1 = plt.Circle((-118.537, 34.213), 0.02, color='m', fill=False,\n",
    "        label='Radius ($^o$)')\n",
    "mag = ax.scatter([e.longitude for e in mag_events], [e.latitude for e in mag_events],\n",
    "           color='m', label='Magnitude: 4-9')\n",
    "sig = ax.scatter([e.longitude for e in significance_events], [e.latitude for e in significance_events],\n",
    "           color='g', label='Significance: 10-20')\n",
    "ax.set_xlabel(r'Longitude ($^o$)', fontsize=14)\n",
    "ax.set_ylabel(r'Latitude ($^o$)', fontsize=14)\n",
    "ax.legend(handles=[bb[0], eq, mag, sig], fontsize=12, loc=4)\n",
    "ax.set_title('Searches Limited by Magnitude and Intensity', fontsize=16)\n",
    "plt.show()\n",
    "\n"
   ]
  },
  {
   "cell_type": "markdown",
   "metadata": {},
   "source": [
    "### Other Options\n",
    "\n",
    "Other options related to logistical limits include:\n",
    "\n",
    "- **catalog**: Only return events corresponding to the specified catalog.\n",
    "- **enable_limit**: While comcat works around COMCAT's 20,000 search limit. The workaround can be turned off using this option.\n",
    "- **eventtype**: Limits to specific type. Using \"earthquake\" will filter all events that are not earthquakes.\n",
    "- **host**: A host other than the default (earthquake.usgs.gov)\n",
    "- **limit**: Limit the number of events to this number.\n",
    "- **mingap**: Limit to events with no less than this azimuthal gap. (Values must be between 0 and 360)\n",
    "- **offset**: This returns the result starting at the event count specified.\n",
    "- **orderby**: This sorts the event by an origin or magnitude parameter. Options include \"time\", \"time-asc\", \"magnitude\", and \"magnitude-asc\". Options without \"asc\" are returned in descending order. \n",
    "- **productcodue**: Returns an event with the associated product code (Example: nn00458749).\n",
    "- **producttype**: This returns only those events with the corresponding product type. (Examples: moment-tensor, focal-mechanism, shakemap, losspager, dyfi)\n",
    "- **reviewstatus**: Limits events by their review status. Options include \"automatic\" and \"reviewed\"\n",
    "- **updateafter**: Only events updated after a specific time will be returned. The input should be a python datetime.\n",
    "\n",
    "Example of orderby:\n"
   ]
  },
  {
   "cell_type": "code",
   "execution_count": null,
   "metadata": {},
   "outputs": [],
   "source": [
    "box_events = search(starttime=datetime(1994, 1, 17, 12, 30), endtime=datetime(1994, 1, 18, 12, 35),\n",
    "                   minlatitude=34.1, maxlatitude=34.3, minlongitude=-118.742, maxlongitude=-118.364,\n",
    "                   orderby='magnitude')\n",
    "magnitude = [e.magnitude for e in box_events]\n",
    "\n",
    "fig, ax = plt.subplots(figsize=(8, 5)) # note we must use plt.subplots, not plt.subplot\n",
    "ax.plot(range(len(magnitude)), magnitude, '-.')\n",
    "ax.set_xlabel(r'Event Number', fontsize=14)\n",
    "ax.set_ylabel(r'Magnitude (M)', fontsize=14)\n",
    "ax.set_title('Events Ordered by Magnitude\\nwithin the Bounding Box', fontsize=16)\n",
    "plt.show()"
   ]
  },
  {
   "cell_type": "markdown",
   "metadata": {},
   "source": [
    "## Count\n",
    "The count method works in the same way, with the same parameters as the search option. However, this method returns the number of events rather than a SummaryEvent object."
   ]
  },
  {
   "cell_type": "code",
   "execution_count": null,
   "metadata": {},
   "outputs": [],
   "source": [
    "number_events = count(starttime=datetime(1994, 1, 17, 12, 30), endtime=datetime(1994, 1, 18, 12, 35),\n",
    "                   minlatitude=34.1, maxlatitude=34.3, minlongitude=-118.742, maxlongitude=-118.364,\n",
    "                   orderby='magnitude')\n",
    "print(\"%s events.\" % number_events)"
   ]
  },
  {
   "cell_type": "markdown",
   "metadata": {},
   "source": [
    "## Search by ID\n",
    "If you already know the event ID, you can search with it. Since only one event will be accessed, a DetailEvent object will be returned. This means that a full list of products will be included.\n",
    "\n",
    "Options other than the event id include:\n",
    "- **catalog**: Only return events corresponding to the specified catalog.\n",
    "- **host**: A host other than the default (earthquake.usgs.gov)\n",
    "- **includedeleted**: Includes deleted products.\n",
    "- **includesuperseded**: Includes superseded product (example: an older version of a finite-fault product). This automatically includes deleted products.\n"
   ]
  },
  {
   "cell_type": "code",
   "execution_count": null,
   "metadata": {},
   "outputs": [],
   "source": [
    "earthquake = get_event_by_id('ci3144585')\n",
    "\n",
    "print(\"Included products: %s \" % earthquake.products)    "
   ]
  }
 ],
 "metadata": {
  "kernelspec": {
   "display_name": "Python 3",
   "language": "python",
   "name": "python3"
  },
  "language_info": {
   "codemirror_mode": {
    "name": "ipython",
    "version": 3
   },
   "file_extension": ".py",
   "mimetype": "text/x-python",
   "name": "python",
   "nbconvert_exporter": "python",
   "pygments_lexer": "ipython3",
   "version": "3.7.3"
  }
 },
 "nbformat": 4,
 "nbformat_minor": 2
}
