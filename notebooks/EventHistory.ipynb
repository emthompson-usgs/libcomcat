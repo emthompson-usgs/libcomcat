{
 "cells": [
  {
   "cell_type": "code",
   "execution_count": 1,
   "metadata": {},
   "outputs": [],
   "source": [
    "%matplotlib inline"
   ]
  },
  {
   "cell_type": "code",
   "execution_count": 2,
   "metadata": {},
   "outputs": [],
   "source": [
    "# Third party imports\n",
    "import matplotlib.patches as mpatches\n",
    "import matplotlib.pyplot as plt\n",
    "\n",
    "# Local imports\n",
    "from libcomcat.dataframes import get_history_data_frame, split_history_frame, PRODUCTS\n",
    "from libcomcat.search import get_event_by_id"
   ]
  },
  {
   "cell_type": "markdown",
   "metadata": {},
   "source": [
    "# ComCat Event History"
   ]
  },
  {
   "cell_type": "markdown",
   "metadata": {},
   "source": [
    "Use this function to download a summary DataFrame of all of the products associated with a given ComCat ID. The M7.1 event from the Ridgecrest Earthquake Sequence in July 2019 is used in this example."
   ]
  },
  {
   "cell_type": "code",
   "execution_count": 3,
   "metadata": {},
   "outputs": [],
   "source": [
    "history_event = get_event_by_id('ci38996632')\n",
    "dataframe, event = get_history_data_frame(history_event)"
   ]
  },
  {
   "cell_type": "markdown",
   "metadata": {},
   "source": [
    "Use head() to inspect the columns and first five rows. The products are sorted by \"update time\", which is supposed to be the time the PDL client sends the product, but some producers override this manually."
   ]
  },
  {
   "cell_type": "code",
   "execution_count": 4,
   "metadata": {},
   "outputs": [
    {
     "name": "stdout",
     "output_type": "stream",
     "text": [
      "13\n"
     ]
    },
    {
     "data": {
      "text/html": [
       "<div>\n",
       "<style scoped>\n",
       "    .dataframe tbody tr th:only-of-type {\n",
       "        vertical-align: middle;\n",
       "    }\n",
       "\n",
       "    .dataframe tbody tr th {\n",
       "        vertical-align: top;\n",
       "    }\n",
       "\n",
       "    .dataframe thead th {\n",
       "        text-align: right;\n",
       "    }\n",
       "</style>\n",
       "<table border=\"1\" class=\"dataframe\">\n",
       "  <thead>\n",
       "    <tr style=\"text-align: right;\">\n",
       "      <th></th>\n",
       "      <th>Update Time</th>\n",
       "      <th>Product</th>\n",
       "      <th>Authoritative Event ID</th>\n",
       "      <th>Code</th>\n",
       "      <th>Associated</th>\n",
       "      <th>Product Source</th>\n",
       "      <th>Product Version</th>\n",
       "      <th>Elapsed (min)</th>\n",
       "      <th>URL</th>\n",
       "      <th>Comment</th>\n",
       "      <th>Description</th>\n",
       "    </tr>\n",
       "  </thead>\n",
       "  <tbody>\n",
       "    <tr>\n",
       "      <th>4</th>\n",
       "      <td>2019-08-22 20:54:59.280</td>\n",
       "      <td>moment-tensor</td>\n",
       "      <td>ci38996632</td>\n",
       "      <td>ci38996632</td>\n",
       "      <td>True</td>\n",
       "      <td>ci</td>\n",
       "      <td>1</td>\n",
       "      <td>5.2</td>\n",
       "      <td>https://earthquake.usgs.gov/archive/product/mo...</td>\n",
       "      <td></td>\n",
       "      <td>Method# TMTS|Moment Magnitude# 5.0|Depth# 11|D...</td>\n",
       "    </tr>\n",
       "    <tr>\n",
       "      <th>6</th>\n",
       "      <td>2019-08-22 21:17:09.990</td>\n",
       "      <td>origin</td>\n",
       "      <td>ci38996632</td>\n",
       "      <td>ci38996632</td>\n",
       "      <td>True</td>\n",
       "      <td>ci</td>\n",
       "      <td>1</td>\n",
       "      <td>27.3</td>\n",
       "      <td>https://earthquake.usgs.gov/archive/product/or...</td>\n",
       "      <td></td>\n",
       "      <td>Magnitude# 5.0|Time# 2019-08-22 20:49:50.06000...</td>\n",
       "    </tr>\n",
       "    <tr>\n",
       "      <th>8</th>\n",
       "      <td>2019-08-22 21:17:09.990</td>\n",
       "      <td>phase-data</td>\n",
       "      <td>ci38996632</td>\n",
       "      <td>ci38996632</td>\n",
       "      <td>True</td>\n",
       "      <td>ci</td>\n",
       "      <td>1</td>\n",
       "      <td>27.3</td>\n",
       "      <td>https://earthquake.usgs.gov/archive/product/ph...</td>\n",
       "      <td></td>\n",
       "      <td>Magnitude# 5.0|Time# 2019-08-22 20:49:50.06000...</td>\n",
       "    </tr>\n",
       "    <tr>\n",
       "      <th>1</th>\n",
       "      <td>2019-08-22 21:18:25.870</td>\n",
       "      <td>focal-mechanism</td>\n",
       "      <td>ci38996632</td>\n",
       "      <td>ci38996632</td>\n",
       "      <td>True</td>\n",
       "      <td>ci</td>\n",
       "      <td>1</td>\n",
       "      <td>28.6</td>\n",
       "      <td>https://earthquake.usgs.gov/archive/product/fo...</td>\n",
       "      <td></td>\n",
       "      <td>Method# HaSh|NP1 Strike# 349.0|NP1 Dip# 83.0|N...</td>\n",
       "    </tr>\n",
       "    <tr>\n",
       "      <th>11</th>\n",
       "      <td>2019-08-22 21:51:45.173</td>\n",
       "      <td>shakemap</td>\n",
       "      <td>ci38996632</td>\n",
       "      <td>ci38996632</td>\n",
       "      <td>True</td>\n",
       "      <td>ci</td>\n",
       "      <td>5</td>\n",
       "      <td>61.9</td>\n",
       "      <td>https://earthquake.usgs.gov/archive/product/sh...</td>\n",
       "      <td></td>\n",
       "      <td>MaxMMI# 6.1|Instrumented# 0|DYFI# 0|Fault# |GM...</td>\n",
       "    </tr>\n",
       "  </tbody>\n",
       "</table>\n",
       "</div>"
      ],
      "text/plain": [
       "               Update Time          Product Authoritative Event ID  \\\n",
       "4  2019-08-22 20:54:59.280    moment-tensor             ci38996632   \n",
       "6  2019-08-22 21:17:09.990           origin             ci38996632   \n",
       "8  2019-08-22 21:17:09.990       phase-data             ci38996632   \n",
       "1  2019-08-22 21:18:25.870  focal-mechanism             ci38996632   \n",
       "11 2019-08-22 21:51:45.173         shakemap             ci38996632   \n",
       "\n",
       "          Code Associated Product Source Product Version  Elapsed (min)  \\\n",
       "4   ci38996632       True             ci               1            5.2   \n",
       "6   ci38996632       True             ci               1           27.3   \n",
       "8   ci38996632       True             ci               1           27.3   \n",
       "1   ci38996632       True             ci               1           28.6   \n",
       "11  ci38996632       True             ci               5           61.9   \n",
       "\n",
       "                                                  URL Comment  \\\n",
       "4   https://earthquake.usgs.gov/archive/product/mo...           \n",
       "6   https://earthquake.usgs.gov/archive/product/or...           \n",
       "8   https://earthquake.usgs.gov/archive/product/ph...           \n",
       "1   https://earthquake.usgs.gov/archive/product/fo...           \n",
       "11  https://earthquake.usgs.gov/archive/product/sh...           \n",
       "\n",
       "                                          Description  \n",
       "4   Method# TMTS|Moment Magnitude# 5.0|Depth# 11|D...  \n",
       "6   Magnitude# 5.0|Time# 2019-08-22 20:49:50.06000...  \n",
       "8   Magnitude# 5.0|Time# 2019-08-22 20:49:50.06000...  \n",
       "1   Method# HaSh|NP1 Strike# 349.0|NP1 Dip# 83.0|N...  \n",
       "11  MaxMMI# 6.1|Instrumented# 0|DYFI# 0|Fault# |GM...  "
      ]
     },
     "execution_count": 4,
     "metadata": {},
     "output_type": "execute_result"
    }
   ],
   "source": [
    "print(len(dataframe))\n",
    "dataframe.head()"
   ]
  },
  {
   "cell_type": "markdown",
   "metadata": {},
   "source": [
    "The dataframe downloaded has all kinds of products in it. It can be used with the split_history_frame() function to extract just the origins and look at those."
   ]
  },
  {
   "cell_type": "code",
   "execution_count": 5,
   "metadata": {},
   "outputs": [
    {
     "data": {
      "text/html": [
       "<div>\n",
       "<style scoped>\n",
       "    .dataframe tbody tr th:only-of-type {\n",
       "        vertical-align: middle;\n",
       "    }\n",
       "\n",
       "    .dataframe tbody tr th {\n",
       "        vertical-align: top;\n",
       "    }\n",
       "\n",
       "    .dataframe thead th {\n",
       "        text-align: right;\n",
       "    }\n",
       "</style>\n",
       "<table border=\"1\" class=\"dataframe\">\n",
       "  <thead>\n",
       "    <tr style=\"text-align: right;\">\n",
       "      <th></th>\n",
       "      <th>Update Time</th>\n",
       "      <th>Product</th>\n",
       "      <th>Authoritative Event ID</th>\n",
       "      <th>Code</th>\n",
       "      <th>Associated</th>\n",
       "      <th>Product Source</th>\n",
       "      <th>Product Version</th>\n",
       "      <th>Elapsed (min)</th>\n",
       "      <th>URL</th>\n",
       "      <th>Comment</th>\n",
       "      <th>Magnitude</th>\n",
       "      <th>Time</th>\n",
       "      <th>Time Offset (sec)</th>\n",
       "      <th>Location</th>\n",
       "      <th>Distance from Auth. Origin (km)</th>\n",
       "      <th>Azimuth</th>\n",
       "      <th>Depth</th>\n",
       "      <th>Magnitude Type</th>\n",
       "      <th>Location Method</th>\n",
       "      <th>Preferred Weight</th>\n",
       "    </tr>\n",
       "  </thead>\n",
       "  <tbody>\n",
       "    <tr>\n",
       "      <th>0</th>\n",
       "      <td>2019-08-22 21:17:09.990</td>\n",
       "      <td>origin</td>\n",
       "      <td>ci38996632</td>\n",
       "      <td>ci38996632</td>\n",
       "      <td>True</td>\n",
       "      <td>ci</td>\n",
       "      <td>1</td>\n",
       "      <td>27.3</td>\n",
       "      <td>https://earthquake.usgs.gov/archive/product/or...</td>\n",
       "      <td></td>\n",
       "      <td>5.0</td>\n",
       "      <td>2019-08-22 20:49:50.060</td>\n",
       "      <td>0.0</td>\n",
       "      <td>(35.907,-117.709)</td>\n",
       "      <td>0.0</td>\n",
       "      <td>N</td>\n",
       "      <td>2.4</td>\n",
       "      <td>mw</td>\n",
       "      <td>unknown</td>\n",
       "      <td>156.0</td>\n",
       "    </tr>\n",
       "    <tr>\n",
       "      <th>1</th>\n",
       "      <td>2019-09-24 15:30:04.040</td>\n",
       "      <td>origin</td>\n",
       "      <td>ci38996632</td>\n",
       "      <td>us70005795</td>\n",
       "      <td>True</td>\n",
       "      <td>us</td>\n",
       "      <td>1</td>\n",
       "      <td>47200.2</td>\n",
       "      <td>https://earthquake.usgs.gov/archive/product/or...</td>\n",
       "      <td></td>\n",
       "      <td>5.0</td>\n",
       "      <td>2019-08-22 20:49:50.060</td>\n",
       "      <td>0.0</td>\n",
       "      <td>(35.907,-117.709)</td>\n",
       "      <td>0.0</td>\n",
       "      <td>S</td>\n",
       "      <td>2.4</td>\n",
       "      <td>mwr</td>\n",
       "      <td>unknown</td>\n",
       "      <td>6.0</td>\n",
       "    </tr>\n",
       "  </tbody>\n",
       "</table>\n",
       "</div>"
      ],
      "text/plain": [
       "              Update Time Product Authoritative Event ID        Code  \\\n",
       "0 2019-08-22 21:17:09.990  origin             ci38996632  ci38996632   \n",
       "1 2019-09-24 15:30:04.040  origin             ci38996632  us70005795   \n",
       "\n",
       "  Associated Product Source Product Version  Elapsed (min)  \\\n",
       "0       True             ci               1           27.3   \n",
       "1       True             us               1        47200.2   \n",
       "\n",
       "                                                 URL Comment  Magnitude  \\\n",
       "0  https://earthquake.usgs.gov/archive/product/or...                5.0   \n",
       "1  https://earthquake.usgs.gov/archive/product/or...                5.0   \n",
       "\n",
       "                     Time  Time Offset (sec)           Location  \\\n",
       "0 2019-08-22 20:49:50.060                0.0  (35.907,-117.709)   \n",
       "1 2019-08-22 20:49:50.060                0.0  (35.907,-117.709)   \n",
       "\n",
       "   Distance from Auth. Origin (km) Azimuth  Depth Magnitude Type  \\\n",
       "0                              0.0       N    2.4             mw   \n",
       "1                              0.0       S    2.4            mwr   \n",
       "\n",
       "  Location Method  Preferred Weight  \n",
       "0         unknown             156.0  \n",
       "1         unknown               6.0  "
      ]
     },
     "execution_count": 5,
     "metadata": {},
     "output_type": "execute_result"
    }
   ],
   "source": [
    "origin_frame = split_history_frame(dataframe,product='origin')\n",
    "origin_frame"
   ]
  },
  {
   "cell_type": "markdown",
   "metadata": {},
   "source": [
    "Make a plot showing all of the depths, colored by contributing network."
   ]
  },
  {
   "cell_type": "code",
   "execution_count": 6,
   "metadata": {},
   "outputs": [
    {
     "data": {
      "image/png": "[encoded data removed]",
      "text/plain": [
       "<Figure size 864x576 with 1 Axes>"
      ]
     },
     "metadata": {
      "needs_background": "light"
     },
     "output_type": "display_data"
    }
   ],
   "source": [
    "fig = plt.figure(figsize=(12,8))\n",
    "colors = ['r','b','g','k','m']\n",
    "nets = origin_frame['Product Source'].unique().tolist()\n",
    "labels = {}\n",
    "for idx, row in origin_frame.iterrows():\n",
    "    netidx = nets.index(row['Product Source'])\n",
    "    color = colors[netidx]\n",
    "    line = plt.plot(row['Elapsed (min)'],row['Depth'], mfc=color,mec='k',marker='.', ms=24)\n",
    "    if color not in labels:\n",
    "        labels[color] = nets[netidx]\n",
    "\n",
    "patches = []\n",
    "for color, network in labels.items():\n",
    "    tpatch = mpatches.Circle(xy=(0,0),color=color, label=network, ec='k')\n",
    "    patches.append(tpatch)\n",
    "plt.legend(handles=patches);\n",
    "plt.title('Evolution of Network Depths');\n",
    "plt.xlabel('Elapsed Time (min)');\n",
    "plt.ylabel('Depth (km)');\n",
    "plt.axhline(y=event.depth,color='r');"
   ]
  },
  {
   "cell_type": "markdown",
   "metadata": {},
   "source": [
    "Let's similarly split out DYFI products."
   ]
  },
  {
   "cell_type": "code",
   "execution_count": 7,
   "metadata": {},
   "outputs": [
    {
     "name": "stdout",
     "output_type": "stream",
     "text": [
      "1\n"
     ]
    },
    {
     "data": {
      "text/html": [
       "<div>\n",
       "<style scoped>\n",
       "    .dataframe tbody tr th:only-of-type {\n",
       "        vertical-align: middle;\n",
       "    }\n",
       "\n",
       "    .dataframe tbody tr th {\n",
       "        vertical-align: top;\n",
       "    }\n",
       "\n",
       "    .dataframe thead th {\n",
       "        text-align: right;\n",
       "    }\n",
       "</style>\n",
       "<table border=\"1\" class=\"dataframe\">\n",
       "  <thead>\n",
       "    <tr style=\"text-align: right;\">\n",
       "      <th></th>\n",
       "      <th>Update Time</th>\n",
       "      <th>Product</th>\n",
       "      <th>Authoritative Event ID</th>\n",
       "      <th>Code</th>\n",
       "      <th>Associated</th>\n",
       "      <th>Product Source</th>\n",
       "      <th>Product Version</th>\n",
       "      <th>Elapsed (min)</th>\n",
       "      <th>URL</th>\n",
       "      <th>Comment</th>\n",
       "      <th>Max MMI</th>\n",
       "      <th>NumResponses</th>\n",
       "    </tr>\n",
       "  </thead>\n",
       "  <tbody>\n",
       "    <tr>\n",
       "      <th>0</th>\n",
       "      <td>2019-09-14 02:00:53.424</td>\n",
       "      <td>dyfi</td>\n",
       "      <td>ci38996632</td>\n",
       "      <td>ci38996632</td>\n",
       "      <td>True</td>\n",
       "      <td>us</td>\n",
       "      <td>1</td>\n",
       "      <td>31991.1</td>\n",
       "      <td>https://earthquake.usgs.gov/archive/product/dy...</td>\n",
       "      <td></td>\n",
       "      <td>4.8</td>\n",
       "      <td>1266.0</td>\n",
       "    </tr>\n",
       "  </tbody>\n",
       "</table>\n",
       "</div>"
      ],
      "text/plain": [
       "              Update Time Product Authoritative Event ID        Code  \\\n",
       "0 2019-09-14 02:00:53.424    dyfi             ci38996632  ci38996632   \n",
       "\n",
       "  Associated Product Source Product Version  Elapsed (min)  \\\n",
       "0       True             us               1        31991.1   \n",
       "\n",
       "                                                 URL Comment  Max MMI  \\\n",
       "0  https://earthquake.usgs.gov/archive/product/dy...              4.8   \n",
       "\n",
       "   NumResponses  \n",
       "0        1266.0  "
      ]
     },
     "execution_count": 7,
     "metadata": {},
     "output_type": "execute_result"
    }
   ],
   "source": [
    "dyfi_frame = split_history_frame(dataframe,product='dyfi')\n",
    "print(len(dyfi_frame))\n",
    "dyfi_frame.head()"
   ]
  },
  {
   "cell_type": "markdown",
   "metadata": {},
   "source": [
    "DYFI product updates arrive frequently, so a figure showing the number of responses with time may be useful."
   ]
  },
  {
   "cell_type": "code",
   "execution_count": 8,
   "metadata": {},
   "outputs": [
    {
     "data": {
      "image/png": "[encoded data removed]",
      "text/plain": [
       "<Figure size 864x576 with 1 Axes>"
      ]
     },
     "metadata": {
      "needs_background": "light"
     },
     "output_type": "display_data"
    }
   ],
   "source": [
    "fig = plt.figure(figsize=(12,8));\n",
    "plt.plot(dyfi_frame['Elapsed (min)']/(60*24), dyfi_frame['NumResponses'], 'b');\n",
    "plt.xlabel('Elapsed Time (days)', fontsize=14);\n",
    "plt.ylabel('Number of Responses', fontsize=14);\n",
    "plt.title('DYFI Responses', fontsize=16);\n",
    "# how long did it take to get to 95% of our maximum number of responses?\n",
    "max_resp_95 = dyfi_frame['NumResponses'].max()*0.95\n",
    "elapsed = dyfi_frame[dyfi_frame['NumResponses'] >= max_resp_95].iloc[0]['Elapsed (min)']\n",
    "elapsed_x = elapsed/(60*24)\n",
    "elapsed_hrs = elapsed/60\n",
    "plt.axvline(x=elapsed_x,color='r');\n",
    "etext = '95%% of responses reached within %.1f hours' % elapsed_hrs\n",
    "plt.text(elapsed_x, dyfi_frame['NumResponses'].mean(),etext, fontsize=14);"
   ]
  },
  {
   "cell_type": "markdown",
   "metadata": {},
   "source": [
    "Retrieve ShakeMap data"
   ]
  },
  {
   "cell_type": "code",
   "execution_count": 9,
   "metadata": {},
   "outputs": [
    {
     "name": "stdout",
     "output_type": "stream",
     "text": [
      "4\n"
     ]
    },
    {
     "data": {
      "text/html": [
       "<div>\n",
       "<style scoped>\n",
       "    .dataframe tbody tr th:only-of-type {\n",
       "        vertical-align: middle;\n",
       "    }\n",
       "\n",
       "    .dataframe tbody tr th {\n",
       "        vertical-align: top;\n",
       "    }\n",
       "\n",
       "    .dataframe thead th {\n",
       "        text-align: right;\n",
       "    }\n",
       "</style>\n",
       "<table border=\"1\" class=\"dataframe\">\n",
       "  <thead>\n",
       "    <tr style=\"text-align: right;\">\n",
       "      <th></th>\n",
       "      <th>Update Time</th>\n",
       "      <th>Product</th>\n",
       "      <th>Authoritative Event ID</th>\n",
       "      <th>Code</th>\n",
       "      <th>Associated</th>\n",
       "      <th>Product Source</th>\n",
       "      <th>Product Version</th>\n",
       "      <th>Elapsed (min)</th>\n",
       "      <th>URL</th>\n",
       "      <th>Comment</th>\n",
       "      <th>MaxMMI</th>\n",
       "      <th>Instrumented</th>\n",
       "      <th>DYFI</th>\n",
       "      <th>Fault</th>\n",
       "      <th>GMPE</th>\n",
       "      <th>Mag</th>\n",
       "      <th>Depth</th>\n",
       "    </tr>\n",
       "  </thead>\n",
       "  <tbody>\n",
       "    <tr>\n",
       "      <th>0</th>\n",
       "      <td>2019-08-22 21:51:45.173</td>\n",
       "      <td>shakemap</td>\n",
       "      <td>ci38996632</td>\n",
       "      <td>ci38996632</td>\n",
       "      <td>True</td>\n",
       "      <td>ci</td>\n",
       "      <td>5</td>\n",
       "      <td>61.9</td>\n",
       "      <td>https://earthquake.usgs.gov/archive/product/sh...</td>\n",
       "      <td></td>\n",
       "      <td>6.1</td>\n",
       "      <td>0.0</td>\n",
       "      <td>0.0</td>\n",
       "      <td>NaN</td>\n",
       "      <td>NaN</td>\n",
       "      <td>NaN</td>\n",
       "      <td>NaN</td>\n",
       "    </tr>\n",
       "    <tr>\n",
       "      <th>1</th>\n",
       "      <td>2019-08-23 08:53:49.780</td>\n",
       "      <td>shakemap</td>\n",
       "      <td>ci38996632</td>\n",
       "      <td>ci38996632</td>\n",
       "      <td>True</td>\n",
       "      <td>cgs</td>\n",
       "      <td>4</td>\n",
       "      <td>724.0</td>\n",
       "      <td>https://earthquake.usgs.gov/archive/product/sh...</td>\n",
       "      <td></td>\n",
       "      <td>6.5</td>\n",
       "      <td>476.0</td>\n",
       "      <td>0.0</td>\n",
       "      <td>NaN</td>\n",
       "      <td>BA08</td>\n",
       "      <td>5.0</td>\n",
       "      <td>2.4</td>\n",
       "    </tr>\n",
       "    <tr>\n",
       "      <th>2</th>\n",
       "      <td>2019-08-23 20:52:27.444</td>\n",
       "      <td>shakemap</td>\n",
       "      <td>ci38996632</td>\n",
       "      <td>ci38996632</td>\n",
       "      <td>True</td>\n",
       "      <td>ci</td>\n",
       "      <td>6</td>\n",
       "      <td>1442.6</td>\n",
       "      <td>https://earthquake.usgs.gov/archive/product/sh...</td>\n",
       "      <td></td>\n",
       "      <td>6.6</td>\n",
       "      <td>558.0</td>\n",
       "      <td>0.0</td>\n",
       "      <td>NaN</td>\n",
       "      <td>BA08</td>\n",
       "      <td>5.0</td>\n",
       "      <td>2.4</td>\n",
       "    </tr>\n",
       "    <tr>\n",
       "      <th>3</th>\n",
       "      <td>2019-08-27 10:48:13.455</td>\n",
       "      <td>shakemap</td>\n",
       "      <td>ci38996632</td>\n",
       "      <td>ci38996632</td>\n",
       "      <td>True</td>\n",
       "      <td>us</td>\n",
       "      <td>24</td>\n",
       "      <td>6598.4</td>\n",
       "      <td>https://earthquake.usgs.gov/archive/product/sh...</td>\n",
       "      <td></td>\n",
       "      <td>6.0</td>\n",
       "      <td>668.0</td>\n",
       "      <td>97.0</td>\n",
       "      <td>NaN</td>\n",
       "      <td>AbrahamsonEtAl2014,BooreEtAl2014CaliforniaBasi...</td>\n",
       "      <td>5.0</td>\n",
       "      <td>2.4</td>\n",
       "    </tr>\n",
       "  </tbody>\n",
       "</table>\n",
       "</div>"
      ],
      "text/plain": [
       "              Update Time   Product Authoritative Event ID        Code  \\\n",
       "0 2019-08-22 21:51:45.173  shakemap             ci38996632  ci38996632   \n",
       "1 2019-08-23 08:53:49.780  shakemap             ci38996632  ci38996632   \n",
       "2 2019-08-23 20:52:27.444  shakemap             ci38996632  ci38996632   \n",
       "3 2019-08-27 10:48:13.455  shakemap             ci38996632  ci38996632   \n",
       "\n",
       "  Associated Product Source Product Version  Elapsed (min)  \\\n",
       "0       True             ci               5           61.9   \n",
       "1       True            cgs               4          724.0   \n",
       "2       True             ci               6         1442.6   \n",
       "3       True             us              24         6598.4   \n",
       "\n",
       "                                                 URL Comment  MaxMMI  \\\n",
       "0  https://earthquake.usgs.gov/archive/product/sh...             6.1   \n",
       "1  https://earthquake.usgs.gov/archive/product/sh...             6.5   \n",
       "2  https://earthquake.usgs.gov/archive/product/sh...             6.6   \n",
       "3  https://earthquake.usgs.gov/archive/product/sh...             6.0   \n",
       "\n",
       "   Instrumented  DYFI Fault  \\\n",
       "0           0.0   0.0   NaN   \n",
       "1         476.0   0.0   NaN   \n",
       "2         558.0   0.0   NaN   \n",
       "3         668.0  97.0   NaN   \n",
       "\n",
       "                                                GMPE  Mag  Depth  \n",
       "0                                                NaN  NaN    NaN  \n",
       "1                                               BA08  5.0    2.4  \n",
       "2                                               BA08  5.0    2.4  \n",
       "3  AbrahamsonEtAl2014,BooreEtAl2014CaliforniaBasi...  5.0    2.4  "
      ]
     },
     "execution_count": 9,
     "metadata": {},
     "output_type": "execute_result"
    }
   ],
   "source": [
    "sm_frame = split_history_frame(dataframe,product='shakemap')\n",
    "print(len(sm_frame))\n",
    "sm_frame.head()"
   ]
  },
  {
   "cell_type": "markdown",
   "metadata": {},
   "source": [
    "Select the Southern California ShakeMaps"
   ]
  },
  {
   "cell_type": "code",
   "execution_count": 10,
   "metadata": {},
   "outputs": [
    {
     "data": {
      "text/html": [
       "<div>\n",
       "<style scoped>\n",
       "    .dataframe tbody tr th:only-of-type {\n",
       "        vertical-align: middle;\n",
       "    }\n",
       "\n",
       "    .dataframe tbody tr th {\n",
       "        vertical-align: top;\n",
       "    }\n",
       "\n",
       "    .dataframe thead th {\n",
       "        text-align: right;\n",
       "    }\n",
       "</style>\n",
       "<table border=\"1\" class=\"dataframe\">\n",
       "  <thead>\n",
       "    <tr style=\"text-align: right;\">\n",
       "      <th></th>\n",
       "      <th>Update Time</th>\n",
       "      <th>Product</th>\n",
       "      <th>Authoritative Event ID</th>\n",
       "      <th>Code</th>\n",
       "      <th>Associated</th>\n",
       "      <th>Product Source</th>\n",
       "      <th>Product Version</th>\n",
       "      <th>Elapsed (min)</th>\n",
       "      <th>URL</th>\n",
       "      <th>Comment</th>\n",
       "      <th>MaxMMI</th>\n",
       "      <th>Instrumented</th>\n",
       "      <th>DYFI</th>\n",
       "      <th>Fault</th>\n",
       "      <th>GMPE</th>\n",
       "      <th>Mag</th>\n",
       "      <th>Depth</th>\n",
       "    </tr>\n",
       "  </thead>\n",
       "  <tbody>\n",
       "    <tr>\n",
       "      <th>0</th>\n",
       "      <td>2019-08-22 21:51:45.173</td>\n",
       "      <td>shakemap</td>\n",
       "      <td>ci38996632</td>\n",
       "      <td>ci38996632</td>\n",
       "      <td>True</td>\n",
       "      <td>ci</td>\n",
       "      <td>5</td>\n",
       "      <td>61.9</td>\n",
       "      <td>https://earthquake.usgs.gov/archive/product/sh...</td>\n",
       "      <td></td>\n",
       "      <td>6.1</td>\n",
       "      <td>0.0</td>\n",
       "      <td>0.0</td>\n",
       "      <td>NaN</td>\n",
       "      <td>NaN</td>\n",
       "      <td>NaN</td>\n",
       "      <td>NaN</td>\n",
       "    </tr>\n",
       "    <tr>\n",
       "      <th>2</th>\n",
       "      <td>2019-08-23 20:52:27.444</td>\n",
       "      <td>shakemap</td>\n",
       "      <td>ci38996632</td>\n",
       "      <td>ci38996632</td>\n",
       "      <td>True</td>\n",
       "      <td>ci</td>\n",
       "      <td>6</td>\n",
       "      <td>1442.6</td>\n",
       "      <td>https://earthquake.usgs.gov/archive/product/sh...</td>\n",
       "      <td></td>\n",
       "      <td>6.6</td>\n",
       "      <td>558.0</td>\n",
       "      <td>0.0</td>\n",
       "      <td>NaN</td>\n",
       "      <td>BA08</td>\n",
       "      <td>5.0</td>\n",
       "      <td>2.4</td>\n",
       "    </tr>\n",
       "  </tbody>\n",
       "</table>\n",
       "</div>"
      ],
      "text/plain": [
       "              Update Time   Product Authoritative Event ID        Code  \\\n",
       "0 2019-08-22 21:51:45.173  shakemap             ci38996632  ci38996632   \n",
       "2 2019-08-23 20:52:27.444  shakemap             ci38996632  ci38996632   \n",
       "\n",
       "  Associated Product Source Product Version  Elapsed (min)  \\\n",
       "0       True             ci               5           61.9   \n",
       "2       True             ci               6         1442.6   \n",
       "\n",
       "                                                 URL Comment  MaxMMI  \\\n",
       "0  https://earthquake.usgs.gov/archive/product/sh...             6.1   \n",
       "2  https://earthquake.usgs.gov/archive/product/sh...             6.6   \n",
       "\n",
       "   Instrumented  DYFI Fault  GMPE  Mag  Depth  \n",
       "0           0.0   0.0   NaN   NaN  NaN    NaN  \n",
       "2         558.0   0.0   NaN  BA08  5.0    2.4  "
      ]
     },
     "execution_count": 10,
     "metadata": {},
     "output_type": "execute_result"
    }
   ],
   "source": [
    "ci_frame = sm_frame[sm_frame['Product Source'] == 'ci']\n",
    "ci_frame.head()"
   ]
  },
  {
   "cell_type": "markdown",
   "metadata": {},
   "source": [
    "Plot the number of instrumented stations over time"
   ]
  },
  {
   "cell_type": "code",
   "execution_count": 11,
   "metadata": {},
   "outputs": [
    {
     "data": {
      "image/png": "[encoded data removed]",
      "text/plain": [
       "<Figure size 864x576 with 1 Axes>"
      ]
     },
     "metadata": {
      "needs_background": "light"
     },
     "output_type": "display_data"
    }
   ],
   "source": [
    "fig = plt.figure(figsize=(12,8));\n",
    "plt.plot(ci_frame['Elapsed (min)']/(60*24), ci_frame['Instrumented'], 'b');\n",
    "plt.xlabel('Elapsed Time (days)', fontsize=14);\n",
    "plt.ylabel('Number of Instrumented Stations', fontsize=14);\n",
    "plt.title('CI ShakeMap Stations Used', fontsize=16);"
   ]
  }
 ],
 "metadata": {
  "kernelspec": {
   "display_name": "Python 3",
   "language": "python",
   "name": "python3"
  },
  "language_info": {
   "codemirror_mode": {
    "name": "ipython",
    "version": 3
   },
   "file_extension": ".py",
   "mimetype": "text/x-python",
   "name": "python",
   "nbconvert_exporter": "python",
   "pygments_lexer": "ipython3",
   "version": "3.7.3"
  }
 },
 "nbformat": 4,
 "nbformat_minor": 2
}
